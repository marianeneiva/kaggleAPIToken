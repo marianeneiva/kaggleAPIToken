{
  "nbformat": 4,
  "nbformat_minor": 0,
  "metadata": {
    "colab": {
      "name": "kaggleAPIToken.ipynb",
      "provenance": [],
      "authorship_tag": "ABX9TyOGNPHZ2Gy6BGa8brcGxtYq",
      "include_colab_link": true
    },
    "kernelspec": {
      "name": "python3",
      "display_name": "Python 3"
    },
    "language_info": {
      "name": "python"
    }
  },
  "cells": [
    {
      "cell_type": "markdown",
      "metadata": {
        "id": "view-in-github",
        "colab_type": "text"
      },
      "source": [
        "<a href=\"https://colab.research.google.com/github/marianeneiva/kaggleAPIToken/blob/main/kaggleAPIToken.ipynb\" target=\"_parent\"><img src=\"https://colab.research.google.com/assets/colab-badge.svg\" alt=\"Open In Colab\"/></a>"
      ]
    },
    {
      "cell_type": "markdown",
      "metadata": {
        "id": "dgUP4l5aIdW2"
      },
      "source": [
        "#AUTOMATIC DOWNLOAD DATA FROM KAGGLE TO GOOGLE COLAB | KAGGLE API TOKEN\n",
        "\n",
        "I often use google colab to test some experiments and to share code with my partners. \n",
        "\n",
        "Recently, I have been using a lot of Kaggle datasets and discovered how to join them! Trust me, this will make your life easier! So, let's code!\n"
      ]
    },
    {
      "cell_type": "markdown",
      "metadata": {
        "id": "IGfJvcuDKtY2"
      },
      "source": [
        "#Mounting google drive\n",
        "\n",
        "Google Colab and Google Drive have a strong relationship! Instead of uploading your files directly to colab, you can simply mount your drive and access all your folders and files.\n",
        "\n",
        "Remember that Google Colab can disconnect, and you lose all uploaded files to your notebook if you do not use Google drive.\n",
        "\n",
        "ps1: in this step, you will have to accept google terms ([Figure 1](https://github.com/marianeneiva/kaggleAPIToken/blob/main/google1.png)) and copy and paste a code in Colab notebook ([Figure 2](https://github.com/marianeneiva/kaggleAPIToken/blob/main/google2.png))\n",
        "\n"
      ]
    },
    {
      "cell_type": "markdown",
      "metadata": {
        "id": "LYmsUYFda5eX"
      },
      "source": [
        "#Change directory\n",
        "\n",
        "The second step is to change the directory (command **cd**) to the folder you want to save the downloaded files from Kaggle (in my case is: portfolio_dataScience). "
      ]
    },
    {
      "cell_type": "code",
      "metadata": {
        "colab": {
          "base_uri": "https://localhost:8080/"
        },
        "id": "CkL3SZlbGu_b",
        "outputId": "4e608b14-5856-4aef-ffc8-591608f90d08"
      },
      "source": [
        "from google.colab import drive\n",
        "drive.mount('/content/gdrive')\n",
        "\n",
        "%cd /content/gdrive/My Drive/portfolio_dataScience"
      ],
      "execution_count": 6,
      "outputs": [
        {
          "output_type": "stream",
          "text": [
            "Drive already mounted at /content/gdrive; to attempt to forcibly remount, call drive.mount(\"/content/gdrive\", force_remount=True).\n",
            "/content/gdrive/My Drive/portfolio_dataScience\n"
          ],
          "name": "stdout"
        }
      ]
    },
    {
      "cell_type": "markdown",
      "metadata": {
        "id": "ikyf3p1HfSV_"
      },
      "source": [
        "#Get API token from Kaggle\n",
        "\n",
        "To download from Kaggle to use in competitions and create your own analysis, you have to download a JSON file with the API token. \n",
        "\n",
        "To download, go to your Kaggle account settings ([Figure 3](https://github.com/marianeneiva/kaggleAPIToken/blob/main/google3.png)) and scroll the page to find the API section ([Figure 4](https://github.com/marianeneiva/kaggleAPIToken/blob/main/google4.png)).\n",
        "\n",
        " Download the kaggle.json file and upload it to the drive (in the same folder you previously opened)([Figure 5](https://github.com/marianeneiva/kaggleAPIToken/blob/main/google5.png))\n"
      ]
    },
    {
      "cell_type": "markdown",
      "metadata": {
        "id": "CfOnZ86RmdCE"
      },
      "source": [
        "#Download dataset from Kaggle\n",
        "\n",
        "After the setup, you can download the file using the command line. In google colab, you can simply add '!' (exclamation point) at the beginning of the line to use commands in the shell. \n",
        "\n",
        "To get the correct command, you have to follow the steps below:\n",
        "- Go to the dataset page\n",
        "- find the three dots next to the button New Notebook\n",
        "- Click in COPY API Command\n",
        "- Paste the code in colab (with !) \n",
        "- Can't find it? [See figure 6](https://github.com/marianeneiva/kaggleAPIToken/blob/main/google6.png).\n",
        "\n",
        "You can list all files in the folder with **!ls** "
      ]
    },
    {
      "cell_type": "code",
      "metadata": {
        "colab": {
          "base_uri": "https://localhost:8080/"
        },
        "id": "N_C-0EvRfUeT",
        "outputId": "d876d830-bcdd-458e-8d20-4669c2053829"
      },
      "source": [
        "!kaggle datasets download -d dansbecker/melbourne-housing-snapshot\n",
        "\n",
        "!ls"
      ],
      "execution_count": 7,
      "outputs": [
        {
          "output_type": "stream",
          "text": [
            "Downloading melbourne-housing-snapshot.zip to /content/gdrive/My Drive/portfolio_dataScience\n",
            "\r  0% 0.00/451k [00:00<?, ?B/s]\n",
            "\r100% 451k/451k [00:00<00:00, 14.4MB/s]\n",
            "kaggle.json  melb_data.csv  melbourne-housing-snapshot.zip\n"
          ],
          "name": "stdout"
        }
      ]
    },
    {
      "cell_type": "markdown",
      "metadata": {
        "id": "P_9M1o3Vp4EC"
      },
      "source": [
        "#Unzip the files\n",
        "\n",
        "As you may have seen, the file downloaded to your folder is a compressed file. Therefore, use the command below:"
      ]
    },
    {
      "cell_type": "code",
      "metadata": {
        "colab": {
          "base_uri": "https://localhost:8080/"
        },
        "id": "6vjRXxa0HOqZ",
        "outputId": "d6f4c5af-d117-4b4b-f69d-4432b38fc56f"
      },
      "source": [
        "!unzip \\*.zip  && rm *.\n",
        "\n",
        "!ls"
      ],
      "execution_count": 8,
      "outputs": [
        {
          "output_type": "stream",
          "text": [
            "Archive:  melbourne-housing-snapshot.zip\n",
            "replace melb_data.csv? [y]es, [n]o, [A]ll, [N]one, [r]ename: n\n",
            "rm: cannot remove '*.': No such file or directory\n",
            "kaggle.json  melb_data.csv  melbourne-housing-snapshot.zip\n"
          ],
          "name": "stdout"
        }
      ]
    },
    {
      "cell_type": "markdown",
      "metadata": {
        "id": "w5KNg3IerNPZ"
      },
      "source": [
        "#Use your data\n",
        "\n",
        "Now you can use your data like you were using your local python IDE. \n",
        "\n",
        "Enjoy it!"
      ]
    },
    {
      "cell_type": "code",
      "metadata": {
        "colab": {
          "base_uri": "https://localhost:8080/",
          "height": 204
        },
        "id": "B73pn46MILdK",
        "outputId": "4d516049-d6b8-486a-efd7-cc735a1cf60a"
      },
      "source": [
        "import pandas as pd\n",
        "\n",
        "data = pd.read_csv('melb_data.csv')\n",
        "\n",
        "data.head()"
      ],
      "execution_count": 9,
      "outputs": [
        {
          "output_type": "execute_result",
          "data": {
            "text/html": [
              "<div>\n",
              "<style scoped>\n",
              "    .dataframe tbody tr th:only-of-type {\n",
              "        vertical-align: middle;\n",
              "    }\n",
              "\n",
              "    .dataframe tbody tr th {\n",
              "        vertical-align: top;\n",
              "    }\n",
              "\n",
              "    .dataframe thead th {\n",
              "        text-align: right;\n",
              "    }\n",
              "</style>\n",
              "<table border=\"1\" class=\"dataframe\">\n",
              "  <thead>\n",
              "    <tr style=\"text-align: right;\">\n",
              "      <th></th>\n",
              "      <th>Suburb</th>\n",
              "      <th>Address</th>\n",
              "      <th>Rooms</th>\n",
              "      <th>Type</th>\n",
              "      <th>Price</th>\n",
              "      <th>Method</th>\n",
              "      <th>SellerG</th>\n",
              "      <th>Date</th>\n",
              "      <th>Distance</th>\n",
              "      <th>Postcode</th>\n",
              "      <th>Bedroom2</th>\n",
              "      <th>Bathroom</th>\n",
              "      <th>Car</th>\n",
              "      <th>Landsize</th>\n",
              "      <th>BuildingArea</th>\n",
              "      <th>YearBuilt</th>\n",
              "      <th>CouncilArea</th>\n",
              "      <th>Lattitude</th>\n",
              "      <th>Longtitude</th>\n",
              "      <th>Regionname</th>\n",
              "      <th>Propertycount</th>\n",
              "    </tr>\n",
              "  </thead>\n",
              "  <tbody>\n",
              "    <tr>\n",
              "      <th>0</th>\n",
              "      <td>Abbotsford</td>\n",
              "      <td>85 Turner St</td>\n",
              "      <td>2</td>\n",
              "      <td>h</td>\n",
              "      <td>1480000.0</td>\n",
              "      <td>S</td>\n",
              "      <td>Biggin</td>\n",
              "      <td>3/12/2016</td>\n",
              "      <td>2.5</td>\n",
              "      <td>3067.0</td>\n",
              "      <td>2.0</td>\n",
              "      <td>1.0</td>\n",
              "      <td>1.0</td>\n",
              "      <td>202.0</td>\n",
              "      <td>NaN</td>\n",
              "      <td>NaN</td>\n",
              "      <td>Yarra</td>\n",
              "      <td>-37.7996</td>\n",
              "      <td>144.9984</td>\n",
              "      <td>Northern Metropolitan</td>\n",
              "      <td>4019.0</td>\n",
              "    </tr>\n",
              "    <tr>\n",
              "      <th>1</th>\n",
              "      <td>Abbotsford</td>\n",
              "      <td>25 Bloomburg St</td>\n",
              "      <td>2</td>\n",
              "      <td>h</td>\n",
              "      <td>1035000.0</td>\n",
              "      <td>S</td>\n",
              "      <td>Biggin</td>\n",
              "      <td>4/02/2016</td>\n",
              "      <td>2.5</td>\n",
              "      <td>3067.0</td>\n",
              "      <td>2.0</td>\n",
              "      <td>1.0</td>\n",
              "      <td>0.0</td>\n",
              "      <td>156.0</td>\n",
              "      <td>79.0</td>\n",
              "      <td>1900.0</td>\n",
              "      <td>Yarra</td>\n",
              "      <td>-37.8079</td>\n",
              "      <td>144.9934</td>\n",
              "      <td>Northern Metropolitan</td>\n",
              "      <td>4019.0</td>\n",
              "    </tr>\n",
              "    <tr>\n",
              "      <th>2</th>\n",
              "      <td>Abbotsford</td>\n",
              "      <td>5 Charles St</td>\n",
              "      <td>3</td>\n",
              "      <td>h</td>\n",
              "      <td>1465000.0</td>\n",
              "      <td>SP</td>\n",
              "      <td>Biggin</td>\n",
              "      <td>4/03/2017</td>\n",
              "      <td>2.5</td>\n",
              "      <td>3067.0</td>\n",
              "      <td>3.0</td>\n",
              "      <td>2.0</td>\n",
              "      <td>0.0</td>\n",
              "      <td>134.0</td>\n",
              "      <td>150.0</td>\n",
              "      <td>1900.0</td>\n",
              "      <td>Yarra</td>\n",
              "      <td>-37.8093</td>\n",
              "      <td>144.9944</td>\n",
              "      <td>Northern Metropolitan</td>\n",
              "      <td>4019.0</td>\n",
              "    </tr>\n",
              "    <tr>\n",
              "      <th>3</th>\n",
              "      <td>Abbotsford</td>\n",
              "      <td>40 Federation La</td>\n",
              "      <td>3</td>\n",
              "      <td>h</td>\n",
              "      <td>850000.0</td>\n",
              "      <td>PI</td>\n",
              "      <td>Biggin</td>\n",
              "      <td>4/03/2017</td>\n",
              "      <td>2.5</td>\n",
              "      <td>3067.0</td>\n",
              "      <td>3.0</td>\n",
              "      <td>2.0</td>\n",
              "      <td>1.0</td>\n",
              "      <td>94.0</td>\n",
              "      <td>NaN</td>\n",
              "      <td>NaN</td>\n",
              "      <td>Yarra</td>\n",
              "      <td>-37.7969</td>\n",
              "      <td>144.9969</td>\n",
              "      <td>Northern Metropolitan</td>\n",
              "      <td>4019.0</td>\n",
              "    </tr>\n",
              "    <tr>\n",
              "      <th>4</th>\n",
              "      <td>Abbotsford</td>\n",
              "      <td>55a Park St</td>\n",
              "      <td>4</td>\n",
              "      <td>h</td>\n",
              "      <td>1600000.0</td>\n",
              "      <td>VB</td>\n",
              "      <td>Nelson</td>\n",
              "      <td>4/06/2016</td>\n",
              "      <td>2.5</td>\n",
              "      <td>3067.0</td>\n",
              "      <td>3.0</td>\n",
              "      <td>1.0</td>\n",
              "      <td>2.0</td>\n",
              "      <td>120.0</td>\n",
              "      <td>142.0</td>\n",
              "      <td>2014.0</td>\n",
              "      <td>Yarra</td>\n",
              "      <td>-37.8072</td>\n",
              "      <td>144.9941</td>\n",
              "      <td>Northern Metropolitan</td>\n",
              "      <td>4019.0</td>\n",
              "    </tr>\n",
              "  </tbody>\n",
              "</table>\n",
              "</div>"
            ],
            "text/plain": [
              "       Suburb           Address  ...             Regionname Propertycount\n",
              "0  Abbotsford      85 Turner St  ...  Northern Metropolitan        4019.0\n",
              "1  Abbotsford   25 Bloomburg St  ...  Northern Metropolitan        4019.0\n",
              "2  Abbotsford      5 Charles St  ...  Northern Metropolitan        4019.0\n",
              "3  Abbotsford  40 Federation La  ...  Northern Metropolitan        4019.0\n",
              "4  Abbotsford       55a Park St  ...  Northern Metropolitan        4019.0\n",
              "\n",
              "[5 rows x 21 columns]"
            ]
          },
          "metadata": {
            "tags": []
          },
          "execution_count": 9
        }
      ]
    }
  ]
}