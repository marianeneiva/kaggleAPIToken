{
  "nbformat": 4,
  "nbformat_minor": 0,
  "metadata": {
    "colab": {
      "name": "kaggleAPIToken.ipynb",
      "provenance": [],
      "authorship_tag": "ABX9TyOmKL9z1V5Gl13lQibA0LAs",
      "include_colab_link": true
    },
    "kernelspec": {
      "name": "python3",
      "display_name": "Python 3"
    },
    "language_info": {
      "name": "python"
    }
  },
  "cells": [
    {
      "cell_type": "markdown",
      "metadata": {
        "id": "view-in-github",
        "colab_type": "text"
      },
      "source": [
        "<a href=\"https://colab.research.google.com/github/marianeneiva/kaggleAPIToken/blob/main/kaggleAPIToken.ipynb\" target=\"_parent\"><img src=\"https://colab.research.google.com/assets/colab-badge.svg\" alt=\"Open In Colab\"/></a>"
      ]
    },
    {
      "cell_type": "markdown",
      "metadata": {
        "id": "dgUP4l5aIdW2"
      },
      "source": [
        "#AUTOMATIC DOWNLOAD DATA FROM KAGGLE TO GOOGLE COLAB | KAGGLE API TOKEN\n",
        "\n",
        "I often use google colab to test some experiments and to share code with my partners. \n",
        "\n",
        "Recently, I have been using a lot of Kaggle datasets and discovered how to join them! Trust me, this will make your life easier! So, let's code!\n"
      ]
    },
    {
      "cell_type": "markdown",
      "metadata": {
        "id": "IGfJvcuDKtY2"
      },
      "source": [
        "#Mounting google drive\n",
        "\n",
        "Google Colab and Google Drive have a strong relationship! Instead of uploading your files directly to colab, you can simply mount your drive and access all your folders and files.\n",
        "\n",
        "Remember that Google Colab can disconnect, and you lose all uploaded files to your notebook if you do not use Google drive.\n",
        "\n",
        "ps1: in this step, you will have to accept google terms ([Figure 1](https://github.com/marianeneiva/kaggleAPIToken/blob/main/google1.png)) and copy and paste a code in Colab notebook ([Figure 2](https://github.com/marianeneiva/kaggleAPIToken/blob/main/google2.png))\n",
        "\n"
      ]
    },
    {
      "cell_type": "code",
      "metadata": {
        "colab": {
          "base_uri": "https://localhost:8080/"
        },
        "id": "vQ1YCyRtVtMJ",
        "outputId": "ed59a8ff-2a55-4012-f85e-72fcecf3148c"
      },
      "source": [
        "from google.colab import drive\n",
        "drive.mount('/content/gdrive')"
      ],
      "execution_count": null,
      "outputs": [
        {
          "output_type": "stream",
          "text": [
            "Drive already mounted at /content/gdrive; to attempt to forcibly remount, call drive.mount(\"/content/gdrive\", force_remount=True).\n"
          ],
          "name": "stdout"
        }
      ]
    },
    {
      "cell_type": "markdown",
      "metadata": {
        "id": "LYmsUYFda5eX"
      },
      "source": [
        "#Change directory\n",
        "\n",
        "The second step is to change the directory (command **cd**) to the folder you want to save the downloaded files from Kaggle (in my case is: portfolio_dataScience). "
      ]
    },
    {
      "cell_type": "code",
      "metadata": {
        "id": "CkL3SZlbGu_b"
      },
      "source": [
        "%cd /content/gdrive/My Drive/portfolio_dataScience"
      ],
      "execution_count": null,
      "outputs": []
    },
    {
      "cell_type": "markdown",
      "metadata": {
        "id": "ikyf3p1HfSV_"
      },
      "source": [
        "#Get API token from Kaggle\n",
        "\n",
        "To download from Kaggle to use in competitions and create your own analysis, you have to download a JSON file with the API token. \n",
        "\n",
        "To download, go to your Kaggle account settings ([Figure 3](https://github.com/marianeneiva/kaggleAPIToken/blob/main/google3.png)) and scroll the page to find the API section ([Figure 4](https://github.com/marianeneiva/kaggleAPIToken/blob/main/google4.png)).\n",
        "\n",
        " Download the kaggle.json file and upload it to the drive (in the same folder you previously opened)([Figure 5](https://github.com/marianeneiva/kaggleAPIToken/blob/main/google5.png))\n",
        "\n",
        "\n",
        "Setup the kaggle configuration directory following the code below:"
      ]
    },
    {
      "cell_type": "code",
      "metadata": {
        "id": "NLOakEq4fBdd"
      },
      "source": [
        "import os\n",
        "os.environ['KAGGLE_CONFIG_DIR'] = \"/content/gdrive/My Drive/portfolio_dataScience\""
      ],
      "execution_count": null,
      "outputs": []
    },
    {
      "cell_type": "markdown",
      "metadata": {
        "id": "CfOnZ86RmdCE"
      },
      "source": [
        "#Download dataset from Kaggle\n",
        "\n",
        "After the setup, you can download the file using the command line. In google colab, you can simply add '!' (exclamation point) at the beginning of the line to use commands in the shell. \n",
        "\n",
        "To get the correct command, you have to follow the steps below:\n",
        "- Go to the dataset page\n",
        "- find the three dots next to the button New Notebook\n",
        "- Click in COPY API Command\n",
        "- Paste the code in colab (with !) \n",
        "- Can't find it? [See figure 6](https://github.com/marianeneiva/kaggleAPIToken/blob/main/google6.png).\n",
        "\n",
        "You can list all files in the folder with **!ls** "
      ]
    },
    {
      "cell_type": "code",
      "metadata": {
        "id": "N_C-0EvRfUeT"
      },
      "source": [
        "!kaggle datasets download -d dansbecker/melbourne-housing-snapshot\n",
        "\n",
        "!ls"
      ],
      "execution_count": null,
      "outputs": []
    },
    {
      "cell_type": "markdown",
      "metadata": {
        "id": "P_9M1o3Vp4EC"
      },
      "source": [
        "#Unzip the files\n",
        "\n",
        "As you may have seen, the file downloaded to your folder is a compressed file. Therefore, use the command below:"
      ]
    },
    {
      "cell_type": "code",
      "metadata": {
        "id": "6vjRXxa0HOqZ"
      },
      "source": [
        "!unzip \\*.zip  && rm *.\n",
        "\n",
        "!ls"
      ],
      "execution_count": null,
      "outputs": []
    },
    {
      "cell_type": "markdown",
      "metadata": {
        "id": "w5KNg3IerNPZ"
      },
      "source": [
        "#Use your data\n",
        "\n",
        "Now you can use your data like you were using your local python IDE. \n",
        "\n",
        "Enjoy it!"
      ]
    },
    {
      "cell_type": "code",
      "metadata": {
        "id": "B73pn46MILdK"
      },
      "source": [
        "import pandas as pd\n",
        "\n",
        "data = pd.read_csv('melb_data.csv')\n",
        "\n",
        "data.head()"
      ],
      "execution_count": null,
      "outputs": []
    }
  ]
}